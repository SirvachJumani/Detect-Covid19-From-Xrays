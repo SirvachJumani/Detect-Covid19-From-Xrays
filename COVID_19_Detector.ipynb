{
  "nbformat": 4,
  "nbformat_minor": 0,
  "metadata": {
    "colab": {
      "name": "COVID-19 Detector.ipynb",
      "provenance": []
    },
    "kernelspec": {
      "name": "python3",
      "display_name": "Python 3"
    },
    "language_info": {
      "name": "python"
    },
    "accelerator": "GPU"
  },
  "cells": [
    {
      "cell_type": "code",
      "metadata": {
        "colab": {
          "base_uri": "https://localhost:8080/"
        },
        "id": "1oK7ivgft4ss",
        "outputId": "f7b1a05d-d0f4-4a60-8f78-6f4d7eee4c77"
      },
      "source": [
        "# Dataset : https://cb.lk/covid_19\n",
        "\n",
        "!wget https://cb.lk/covid_19"
      ],
      "execution_count": null,
      "outputs": [
        {
          "output_type": "stream",
          "text": [
            "--2021-08-19 21:47:14--  https://cb.lk/covid_19\n",
            "Resolving cb.lk (cb.lk)... 104.21.72.203, 172.67.187.81, 2606:4700:3032::ac43:bb51, ...\n",
            "Connecting to cb.lk (cb.lk)|104.21.72.203|:443... connected.\n",
            "HTTP request sent, awaiting response... 302 Found\n",
            "Location: https://www.dropbox.com/s/7rjw6oet4za01op/CovidDataset-20200427T133042Z-001.zip?dl=0 [following]\n",
            "--2021-08-19 21:47:14--  https://www.dropbox.com/s/7rjw6oet4za01op/CovidDataset-20200427T133042Z-001.zip?dl=0\n",
            "Resolving www.dropbox.com (www.dropbox.com)... 162.125.80.18, 2620:100:601b:18::a27d:812\n",
            "Connecting to www.dropbox.com (www.dropbox.com)|162.125.80.18|:443... connected.\n",
            "HTTP request sent, awaiting response... 301 Moved Permanently\n",
            "Location: /s/raw/7rjw6oet4za01op/CovidDataset-20200427T133042Z-001.zip [following]\n",
            "--2021-08-19 21:47:15--  https://www.dropbox.com/s/raw/7rjw6oet4za01op/CovidDataset-20200427T133042Z-001.zip\n",
            "Reusing existing connection to www.dropbox.com:443.\n",
            "HTTP request sent, awaiting response... 302 Found\n",
            "Location: https://ucc462d9bdb58f79e6500717ada9.dl.dropboxusercontent.com/cd/0/inline/BUj5hnlqSUhFP0aViWSJt9bKvK8Vid8Pp6QRv2J4tauAPYDsuOEbdM7nc7yHKRfd8RuJhlEtUk_PzDbyDbVArlV0TuzhrZ3W7X8_nhNBkaXqLdi6CWzb1FJWRI0uGQ-fcBZeol6z2_ufgDSpg47s19aR/file# [following]\n",
            "--2021-08-19 21:47:16--  https://ucc462d9bdb58f79e6500717ada9.dl.dropboxusercontent.com/cd/0/inline/BUj5hnlqSUhFP0aViWSJt9bKvK8Vid8Pp6QRv2J4tauAPYDsuOEbdM7nc7yHKRfd8RuJhlEtUk_PzDbyDbVArlV0TuzhrZ3W7X8_nhNBkaXqLdi6CWzb1FJWRI0uGQ-fcBZeol6z2_ufgDSpg47s19aR/file\n",
            "Resolving ucc462d9bdb58f79e6500717ada9.dl.dropboxusercontent.com (ucc462d9bdb58f79e6500717ada9.dl.dropboxusercontent.com)... 162.125.3.15, 2620:100:601d:15::a27d:50f\n",
            "Connecting to ucc462d9bdb58f79e6500717ada9.dl.dropboxusercontent.com (ucc462d9bdb58f79e6500717ada9.dl.dropboxusercontent.com)|162.125.3.15|:443... connected.\n",
            "HTTP request sent, awaiting response... 302 Found\n",
            "Location: /cd/0/inline2/BUiDEU2fJuHYrv-gcWQkrrfaybyOOltfz84A5kA1Az5mBrrAkAsbUhgDwuCd--OfR3SuMCvehZWBj0fD5cJGzZO9t2kFn6RbVdstAKyEsC0mNj6BlT0NOdklGxc2U4XQEDPXvAMNpCVLbZXX8uz7Lg7fFmknQPdEYyhK8WifAknKtOzKcHCoDqWRJQL0GVmkNj5hR9_0tF7zXQ9dhyzxbrE33Dt6l1fKHVnInH2HUdbwDSB2Ervb8pDt9Zm9MiCDYmqcYJ0KvaCdTlEZhZchb-MOrDhHyJVJP5GpJ8h4anf0QubKy2O77v834EnqWeIEcV4DNV9qDVZiyNNOo82fvwdxMLunF9mmp1Zi-96RfcfNtQPOZTqXORCY8qmE-DoW0Zc/file [following]\n",
            "--2021-08-19 21:47:16--  https://ucc462d9bdb58f79e6500717ada9.dl.dropboxusercontent.com/cd/0/inline2/BUiDEU2fJuHYrv-gcWQkrrfaybyOOltfz84A5kA1Az5mBrrAkAsbUhgDwuCd--OfR3SuMCvehZWBj0fD5cJGzZO9t2kFn6RbVdstAKyEsC0mNj6BlT0NOdklGxc2U4XQEDPXvAMNpCVLbZXX8uz7Lg7fFmknQPdEYyhK8WifAknKtOzKcHCoDqWRJQL0GVmkNj5hR9_0tF7zXQ9dhyzxbrE33Dt6l1fKHVnInH2HUdbwDSB2Ervb8pDt9Zm9MiCDYmqcYJ0KvaCdTlEZhZchb-MOrDhHyJVJP5GpJ8h4anf0QubKy2O77v834EnqWeIEcV4DNV9qDVZiyNNOo82fvwdxMLunF9mmp1Zi-96RfcfNtQPOZTqXORCY8qmE-DoW0Zc/file\n",
            "Reusing existing connection to ucc462d9bdb58f79e6500717ada9.dl.dropboxusercontent.com:443.\n",
            "HTTP request sent, awaiting response... 200 OK\n",
            "Length: 140830621 (134M) [application/zip]\n",
            "Saving to: ‘covid_19.2’\n",
            "\n",
            "covid_19.2          100%[===================>] 134.31M  62.2MB/s    in 2.2s    \n",
            "\n",
            "2021-08-19 21:47:18 (62.2 MB/s) - ‘covid_19.2’ saved [140830621/140830621]\n",
            "\n"
          ],
          "name": "stdout"
        }
      ]
    },
    {
      "cell_type": "code",
      "metadata": {
        "colab": {
          "base_uri": "https://localhost:8080/"
        },
        "id": "HjSGvC6hv6JY",
        "outputId": "6cf4dd30-b3f0-4fb8-de29-95be3fc2f64d"
      },
      "source": [
        "!unzip covid_19"
      ],
      "execution_count": null,
      "outputs": [
        {
          "output_type": "stream",
          "text": [
            "Archive:  covid_19\n",
            "replace CovidDataset/Val/Covid/88de9d8c39e946abd495b37cd07d89e5-6531-0.jpg? [y]es, [n]o, [A]ll, [N]one, [r]ename: "
          ],
          "name": "stdout"
        }
      ]
    },
    {
      "cell_type": "code",
      "metadata": {
        "id": "xAqGYAjpx10D"
      },
      "source": [
        "TRAIN_PATH = \"CovidDataset/Train\"\n",
        "TEST_PATH = \"CovidDataset/Val\"\n",
        "\n"
      ],
      "execution_count": null,
      "outputs": []
    },
    {
      "cell_type": "code",
      "metadata": {
        "id": "g_oVYpRczIql"
      },
      "source": [
        "import numpy as np\n",
        "import matplotlib.pyplot as plt\n",
        "import keras\n",
        "from keras.layers import *\n",
        "from keras.models import *\n",
        "from keras.preprocessing import image\n"
      ],
      "execution_count": null,
      "outputs": []
    },
    {
      "cell_type": "code",
      "metadata": {
        "id": "owk9DwhJzyI5"
      },
      "source": [
        "# CNN based model in Keras\n",
        "\n",
        "model = Sequential()\n",
        "model.add(Conv2D(32, kernel_size = (3,3), activation='relu',input_shape=(224,224,3)))\n",
        "model.add(Conv2D(64,(3,3),activation='relu'))\n",
        "model.add(MaxPooling2D(pool_size=(2,2)))\n",
        "model.add(Dropout(0.25))\n",
        "\n",
        "model.add(Conv2D(64,(3,3),activation='relu'))\n",
        "model.add(MaxPooling2D(pool_size=(2,2)))\n",
        "model.add(Dropout(0.25))\n",
        "\n",
        "model.add(Conv2D(128,(3,3),activation='relu'))\n",
        "model.add(MaxPooling2D(pool_size=(2,2)))\n",
        "model.add(Dropout(0.25))\n",
        "\n",
        "model.add(Flatten())\n",
        "model.add(Dense(64,activation='relu'))\n",
        "model.add(Dropout(0.5))\n",
        "model.add(Dense(1,activation='sigmoid'))\n",
        "\n",
        "model.compile(loss=keras.losses.binary_crossentropy,optimizer='adam',metrics=['accuracy'])"
      ],
      "execution_count": null,
      "outputs": []
    },
    {
      "cell_type": "code",
      "metadata": {
        "colab": {
          "base_uri": "https://localhost:8080/"
        },
        "id": "NQgrrWGF8Y8V",
        "outputId": "38a71fe1-88ce-4c31-cd45-1202ff00b5fb"
      },
      "source": [
        "model.summary()"
      ],
      "execution_count": null,
      "outputs": [
        {
          "output_type": "stream",
          "text": [
            "Model: \"sequential\"\n",
            "_________________________________________________________________\n",
            "Layer (type)                 Output Shape              Param #   \n",
            "=================================================================\n",
            "conv2d (Conv2D)              (None, 222, 222, 32)      896       \n",
            "_________________________________________________________________\n",
            "conv2d_1 (Conv2D)            (None, 220, 220, 64)      18496     \n",
            "_________________________________________________________________\n",
            "max_pooling2d (MaxPooling2D) (None, 110, 110, 64)      0         \n",
            "_________________________________________________________________\n",
            "dropout (Dropout)            (None, 110, 110, 64)      0         \n",
            "_________________________________________________________________\n",
            "conv2d_2 (Conv2D)            (None, 108, 108, 64)      36928     \n",
            "_________________________________________________________________\n",
            "max_pooling2d_1 (MaxPooling2 (None, 54, 54, 64)        0         \n",
            "_________________________________________________________________\n",
            "dropout_1 (Dropout)          (None, 54, 54, 64)        0         \n",
            "_________________________________________________________________\n",
            "conv2d_3 (Conv2D)            (None, 52, 52, 128)       73856     \n",
            "_________________________________________________________________\n",
            "max_pooling2d_2 (MaxPooling2 (None, 26, 26, 128)       0         \n",
            "_________________________________________________________________\n",
            "dropout_2 (Dropout)          (None, 26, 26, 128)       0         \n",
            "_________________________________________________________________\n",
            "flatten (Flatten)            (None, 86528)             0         \n",
            "_________________________________________________________________\n",
            "dense (Dense)                (None, 64)                5537856   \n",
            "_________________________________________________________________\n",
            "dropout_3 (Dropout)          (None, 64)                0         \n",
            "_________________________________________________________________\n",
            "dense_1 (Dense)              (None, 1)                 65        \n",
            "=================================================================\n",
            "Total params: 5,668,097\n",
            "Trainable params: 5,668,097\n",
            "Non-trainable params: 0\n",
            "_________________________________________________________________\n"
          ],
          "name": "stdout"
        }
      ]
    },
    {
      "cell_type": "code",
      "metadata": {
        "id": "CvO6hJCc-qRj"
      },
      "source": [
        "# Train from scratch\n",
        "train_datagen = image.ImageDataGenerator(\n",
        "    rescale = 1./255, # Normalise the to converge\n",
        "    shear_range = 0.2,\n",
        "    zoom_range = 0.2,\n",
        "    horizontal_flip = True,\n",
        ")\n",
        "\n",
        "test_datagen = image.ImageDataGenerator(rescale=1/.255)"
      ],
      "execution_count": null,
      "outputs": []
    },
    {
      "cell_type": "code",
      "metadata": {
        "colab": {
          "base_uri": "https://localhost:8080/"
        },
        "id": "DB2qcsAH_97G",
        "outputId": "ce8097ca-ce6c-4a34-e35b-4842a6afc4c1"
      },
      "source": [
        "train_generator = train_datagen.flow_from_directory(\n",
        "    'CovidDataset/Train',\n",
        "    target_size = (224,224),\n",
        "    batch_size = 32,\n",
        "    class_mode = 'binary')"
      ],
      "execution_count": null,
      "outputs": [
        {
          "output_type": "stream",
          "text": [
            "Found 224 images belonging to 2 classes.\n"
          ],
          "name": "stdout"
        }
      ]
    },
    {
      "cell_type": "code",
      "metadata": {
        "colab": {
          "base_uri": "https://localhost:8080/"
        },
        "id": "6KRt1BcSBNWy",
        "outputId": "c499be9f-1a05-4a7d-cca3-e35bae43dfbc"
      },
      "source": [
        "train_generator.class_indices"
      ],
      "execution_count": null,
      "outputs": [
        {
          "output_type": "execute_result",
          "data": {
            "text/plain": [
              "{'Covid': 0, 'Normal': 1}"
            ]
          },
          "metadata": {},
          "execution_count": 13
        }
      ]
    },
    {
      "cell_type": "code",
      "metadata": {
        "colab": {
          "base_uri": "https://localhost:8080/"
        },
        "id": "Ct0Ugr_0BQ_r",
        "outputId": "6d11d433-6178-47f9-eee6-f97d0a7046cb"
      },
      "source": [
        "validation_generator = test_datagen.flow_from_directory(\n",
        "    'CovidDataset/Val',\n",
        "    target_size = (224,224),\n",
        "    batch_size = 32,\n",
        "    class_mode = 'binary')"
      ],
      "execution_count": null,
      "outputs": [
        {
          "output_type": "stream",
          "text": [
            "Found 60 images belonging to 2 classes.\n"
          ],
          "name": "stdout"
        }
      ]
    },
    {
      "cell_type": "code",
      "metadata": {
        "colab": {
          "base_uri": "https://localhost:8080/"
        },
        "id": "CTgmI-2hDFgP",
        "outputId": "ccb469db-ac71-4365-c8ca-e753a9f00bb2"
      },
      "source": [
        "hist = model.fit_generator(\n",
        "    train_generator,\n",
        "    steps_per_epoch=6,\n",
        "    epochs = 10,\n",
        "    validation_data = validation_generator,\n",
        "    validation_steps = 2\n",
        ")"
      ],
      "execution_count": null,
      "outputs": [
        {
          "output_type": "stream",
          "text": [
            "/usr/local/lib/python3.7/dist-packages/keras/engine/training.py:1972: UserWarning: `Model.fit_generator` is deprecated and will be removed in a future version. Please use `Model.fit`, which supports generators.\n",
            "  warnings.warn('`Model.fit_generator` is deprecated and '\n"
          ],
          "name": "stderr"
        },
        {
          "output_type": "stream",
          "text": [
            "Epoch 1/10\n",
            "6/6 [==============================] - 10s 2s/step - loss: 0.2236 - accuracy: 0.9375 - val_loss: 55.4458 - val_accuracy: 0.9000\n",
            "Epoch 2/10\n",
            "6/6 [==============================] - 9s 1s/step - loss: 0.1628 - accuracy: 0.9271 - val_loss: 112.0388 - val_accuracy: 0.9667\n",
            "Epoch 3/10\n",
            "6/6 [==============================] - 9s 1s/step - loss: 0.1264 - accuracy: 0.9323 - val_loss: 38.8288 - val_accuracy: 0.9667\n",
            "Epoch 4/10\n",
            "6/6 [==============================] - 9s 2s/step - loss: 0.1300 - accuracy: 0.9479 - val_loss: 79.9188 - val_accuracy: 0.9667\n",
            "Epoch 5/10\n",
            "6/6 [==============================] - 9s 2s/step - loss: 0.1008 - accuracy: 0.9583 - val_loss: 81.4260 - val_accuracy: 0.9000\n",
            "Epoch 6/10\n",
            "6/6 [==============================] - 9s 2s/step - loss: 0.1156 - accuracy: 0.9635 - val_loss: 4.1134 - val_accuracy: 0.9833\n",
            "Epoch 7/10\n",
            "6/6 [==============================] - 9s 1s/step - loss: 0.1488 - accuracy: 0.9635 - val_loss: 124.4745 - val_accuracy: 0.9667\n",
            "Epoch 8/10\n",
            "6/6 [==============================] - 8s 1s/step - loss: 0.0884 - accuracy: 0.9792 - val_loss: 28.4313 - val_accuracy: 0.9667\n",
            "Epoch 9/10\n",
            "6/6 [==============================] - 9s 1s/step - loss: 0.0960 - accuracy: 0.9688 - val_loss: 116.3205 - val_accuracy: 0.9667\n",
            "Epoch 10/10\n",
            "6/6 [==============================] - 8s 1s/step - loss: 0.0765 - accuracy: 0.9740 - val_loss: 44.5830 - val_accuracy: 0.9667\n"
          ],
          "name": "stdout"
        }
      ]
    },
    {
      "cell_type": "code",
      "metadata": {
        "id": "AwV7k1sWTZ5k"
      },
      "source": [
        "# Class Activation Maps  \n",
        "# Grad-CAM both used to visualize the how a network is differentiating feature "
      ],
      "execution_count": null,
      "outputs": []
    },
    {
      "cell_type": "markdown",
      "metadata": {
        "id": "2n0nv4NScOP3"
      },
      "source": [
        "# Loss is very small and decreasing "
      ]
    },
    {
      "cell_type": "code",
      "metadata": {
        "id": "YC1N-flUTd44"
      },
      "source": [
        "model.save(\"model_adv.h5\")"
      ],
      "execution_count": null,
      "outputs": []
    },
    {
      "cell_type": "code",
      "metadata": {
        "colab": {
          "base_uri": "https://localhost:8080/"
        },
        "id": "TDHkMQfOVVTq",
        "outputId": "725e4a13-dc24-44c3-f3dd-6bc2fa425315"
      },
      "source": [
        "model.evaluate_generator(train_generator)"
      ],
      "execution_count": null,
      "outputs": [
        {
          "output_type": "stream",
          "text": [
            "/usr/local/lib/python3.7/dist-packages/keras/engine/training.py:2006: UserWarning: `Model.evaluate_generator` is deprecated and will be removed in a future version. Please use `Model.evaluate`, which supports generators.\n",
            "  warnings.warn('`Model.evaluate_generator` is deprecated and '\n"
          ],
          "name": "stderr"
        },
        {
          "output_type": "execute_result",
          "data": {
            "text/plain": [
              "[0.06649325042963028, 0.9821428656578064]"
            ]
          },
          "metadata": {},
          "execution_count": 26
        }
      ]
    },
    {
      "cell_type": "code",
      "metadata": {
        "colab": {
          "base_uri": "https://localhost:8080/"
        },
        "id": "l3T6VKjqVrAj",
        "outputId": "b8f0d90b-15f4-4d4c-eb56-2f6b1fce2107"
      },
      "source": [
        "model.evaluate_generator(validation_generator)"
      ],
      "execution_count": null,
      "outputs": [
        {
          "output_type": "stream",
          "text": [
            "/usr/local/lib/python3.7/dist-packages/keras/engine/training.py:2006: UserWarning: `Model.evaluate_generator` is deprecated and will be removed in a future version. Please use `Model.evaluate`, which supports generators.\n",
            "  warnings.warn('`Model.evaluate_generator` is deprecated and '\n"
          ],
          "name": "stderr"
        },
        {
          "output_type": "execute_result",
          "data": {
            "text/plain": [
              "[44.583030700683594, 0.9666666388511658]"
            ]
          },
          "metadata": {},
          "execution_count": 27
        }
      ]
    },
    {
      "cell_type": "markdown",
      "metadata": {
        "id": "W1vCQwwTWWpC"
      },
      "source": [
        "# **Test Image With Confusion Metrics**"
      ]
    },
    {
      "cell_type": "code",
      "metadata": {
        "id": "zg7vh-OhWe5j"
      },
      "source": [
        "model = load_model('model_adv.h5')"
      ],
      "execution_count": null,
      "outputs": []
    },
    {
      "cell_type": "code",
      "metadata": {
        "id": "FNt4V-UBWuLu"
      },
      "source": [
        "import os"
      ],
      "execution_count": null,
      "outputs": []
    },
    {
      "cell_type": "code",
      "metadata": {
        "colab": {
          "base_uri": "https://localhost:8080/"
        },
        "id": "GZocl7IWWv_X",
        "outputId": "e912d139-882f-4fe0-8c83-f75685337323"
      },
      "source": [
        "train_generator.class_indices"
      ],
      "execution_count": null,
      "outputs": [
        {
          "output_type": "execute_result",
          "data": {
            "text/plain": [
              "{'Covid': 0, 'Normal': 1}"
            ]
          },
          "metadata": {},
          "execution_count": 31
        }
      ]
    },
    {
      "cell_type": "code",
      "metadata": {
        "id": "tnq-2ZpQW1Du"
      },
      "source": [
        "y_actual = []\n",
        "y_test = []"
      ],
      "execution_count": null,
      "outputs": []
    },
    {
      "cell_type": "code",
      "metadata": {
        "id": "ooQK_ejKXBCj",
        "colab": {
          "base_uri": "https://localhost:8080/",
          "height": 195
        },
        "outputId": "6bf9998b-5ac1-4174-88d5-ee557f978d4b"
      },
      "source": [
        "for i in os.listdir(\"./CovidDataset/Val/Normal/\"):\n",
        "  img = image.load_img(\"./CovidDataset/Val/Normal/\"+i, target_size=(224,224))\n",
        "  img = image.img_to_array(img)\n",
        "  img = np.expand_dims(img, axis=0)\n",
        "  predict_x=model.predict(img) \n",
        "  classes_x=np.argmax(predict_x,axis=1)\n",
        "  y_test.append(predict_x[0,0])\n",
        "  y_actual(1)\n"
      ],
      "execution_count": null,
      "outputs": [
        {
          "output_type": "error",
          "ename": "TypeError",
          "evalue": "ignored",
          "traceback": [
            "\u001b[0;31m---------------------------------------------------------------------------\u001b[0m",
            "\u001b[0;31mTypeError\u001b[0m                                 Traceback (most recent call last)",
            "\u001b[0;32m<ipython-input-36-4101dc4bc87d>\u001b[0m in \u001b[0;36m<module>\u001b[0;34m()\u001b[0m\n\u001b[1;32m      6\u001b[0m   \u001b[0mclasses_x\u001b[0m\u001b[0;34m=\u001b[0m\u001b[0mnp\u001b[0m\u001b[0;34m.\u001b[0m\u001b[0margmax\u001b[0m\u001b[0;34m(\u001b[0m\u001b[0mpredict_x\u001b[0m\u001b[0;34m,\u001b[0m\u001b[0maxis\u001b[0m\u001b[0;34m=\u001b[0m\u001b[0;36m1\u001b[0m\u001b[0;34m)\u001b[0m\u001b[0;34m\u001b[0m\u001b[0;34m\u001b[0m\u001b[0m\n\u001b[1;32m      7\u001b[0m   \u001b[0my_test\u001b[0m\u001b[0;34m.\u001b[0m\u001b[0mappend\u001b[0m\u001b[0;34m(\u001b[0m\u001b[0mpredict_x\u001b[0m\u001b[0;34m[\u001b[0m\u001b[0;36m0\u001b[0m\u001b[0;34m,\u001b[0m\u001b[0;36m0\u001b[0m\u001b[0;34m]\u001b[0m\u001b[0;34m)\u001b[0m\u001b[0;34m\u001b[0m\u001b[0;34m\u001b[0m\u001b[0m\n\u001b[0;32m----> 8\u001b[0;31m   \u001b[0my_actual\u001b[0m\u001b[0;34m(\u001b[0m\u001b[0;36m1\u001b[0m\u001b[0;34m)\u001b[0m\u001b[0;34m\u001b[0m\u001b[0;34m\u001b[0m\u001b[0m\n\u001b[0m",
            "\u001b[0;31mTypeError\u001b[0m: 'list' object is not callable"
          ]
        }
      ]
    }
  ]
}